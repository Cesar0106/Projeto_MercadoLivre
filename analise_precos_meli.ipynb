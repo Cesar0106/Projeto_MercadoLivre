{
 "cells": [
  {
   "cell_type": "markdown",
   "metadata": {},
   "source": [
    "# Projeto – Scraper Mercado Livre  \n",
    "Coleta anúncios, extrai detalhes, remove colunas pouco povoadas e grava CSVs organizados por execução.\n"
   ]
  },
  {
   "cell_type": "markdown",
   "metadata": {},
   "source": [
    "## Instalação das bibliotecas\n",
    "\n",
    "Execute a célula de código abaixo **uma única vez** para instalar as\n",
    "dependências necessárias (ou pule se já estiverem no ambiente):\n",
    "\n",
    "* `requests`, `beautifulsoup4`, `lxml` – scraping  \n",
    "* `pandas` – manipulação de dados  \n",
    "* `tqdm` – barra de progresso\n"
   ]
  },
  {
   "cell_type": "code",
   "execution_count": 99,
   "metadata": {},
   "outputs": [
    {
     "name": "stderr",
     "output_type": "stream",
     "text": [
      "\n",
      "[notice] A new release of pip is available: 25.0.1 -> 25.1.1\n",
      "[notice] To update, run: python.exe -m pip install --upgrade pip\n"
     ]
    }
   ],
   "source": [
    "!pip install -q requests beautifulsoup4 lxml pandas tqdm matplotlib"
   ]
  },
  {
   "cell_type": "code",
   "execution_count": 79,
   "metadata": {},
   "outputs": [],
   "source": [
    "# Imports e configuração global\n",
    "from pathlib import Path\n",
    "from datetime import datetime\n",
    "import time, random, math, re, json, csv, os\n",
    "\n",
    "import requests, pandas as pd\n",
    "from bs4 import BeautifulSoup\n",
    "from tqdm.auto import tqdm\n",
    "from concurrent.futures import ThreadPoolExecutor, as_completed\n"
   ]
  },
  {
   "cell_type": "markdown",
   "metadata": {},
   "source": [
    "## Parâmetros editáveis\n",
    "Altere palavras-chave, nº de páginas, atrasos e nº de threads.\n"
   ]
  },
  {
   "cell_type": "code",
   "execution_count": 80,
   "metadata": {},
   "outputs": [],
   "source": [
    "KEYWORDS        = [\"iphone-13\", \"iphone-14\", \"rtx-3060\", \"mac-mini-m4\"]\n",
    "PAGES_PER_KW    = 3               # páginas por keyword\n",
    "REQUEST_DELAY   = (0.1, 1)          # intervalo (seg) entre downloads\n",
    "MAX_WORKERS     = 12              # threads em paralelo\n",
    "KEEP_THRESHOLD  = 0.70            # ≥70 % valores não-nulos\n",
    "HEADERS = {\n",
    "    \"User-Agent\": (\n",
    "        \"Mozilla/5.0 (Windows NT 10.0; Win64; x64) \"\n",
    "        \"AppleWebKit/537.36 (KHTML, like Gecko) \"\n",
    "        \"Chrome/124.0 Safari/537.36\"\n",
    "    )\n",
    "}\n",
    "ITEMS_PER_PAGE  = 48\n"
   ]
  },
  {
   "cell_type": "markdown",
   "metadata": {},
   "source": [
    "## Estrutura de diretórios  \n",
    "Cada run cria `runs/<YYYYMMDD-HHMMSS>/raw/` e `clean/`.\n"
   ]
  },
  {
   "cell_type": "code",
   "execution_count": 81,
   "metadata": {},
   "outputs": [
    {
     "name": "stdout",
     "output_type": "stream",
     "text": [
      "Run dir: C:\\Users\\cesar\\OneDrive\\Desktop\\Insper\\Eletivas\\analise_de_texto\\Projeto_MercadoLivre\\runs\\20250518-181923\n"
     ]
    }
   ],
   "source": [
    "RUN_TS   = datetime.now().strftime(\"%Y%m%d-%H%M%S\")\n",
    "RUN_DIR  = Path(\"runs\") / RUN_TS\n",
    "RAW_DIR  = RUN_DIR / \"raw\"\n",
    "CLN_DIR  = RUN_DIR / \"clean\"\n",
    "for d in (RAW_DIR, CLN_DIR):\n",
    "    d.mkdir(parents=True, exist_ok=True)\n",
    "print(\"Run dir:\", RUN_DIR.resolve())\n"
   ]
  },
  {
   "cell_type": "markdown",
   "metadata": {},
   "source": [
    "## Funções auxiliares – busca\n"
   ]
  },
  {
   "cell_type": "code",
   "execution_count": 82,
   "metadata": {},
   "outputs": [],
   "source": [
    "def build_url(keyword: str, page: int) -> str:\n",
    "    base = f\"https://lista.mercadolivre.com.br/{keyword}\"\n",
    "    if page == 1:\n",
    "        return base\n",
    "    offset = (page - 1) * ITEMS_PER_PAGE + 1\n",
    "    return f\"{base}_Desde_{offset}\"\n",
    "\n",
    "def fetch_html(url: str) -> str:\n",
    "    resp = requests.get(url, headers=HEADERS, timeout=20)\n",
    "    resp.raise_for_status()\n",
    "    return resp.text\n",
    "\n",
    "def parse_cards(html: str, kw: str) -> list[dict]:\n",
    "    soup  = BeautifulSoup(html, \"lxml\")\n",
    "    items = soup.select(\"li.ui-search-layout__item\")\n",
    "    rows  = []\n",
    "    for it in items:\n",
    "        a = (it.select_one('a[class*=\"poly-component__title\"]')\n",
    "             or it.select_one(\"a.ui-search-item__group__element\"))\n",
    "        if not a: continue\n",
    "        title = a.get_text(\" \", strip=True)\n",
    "        link  = a[\"href\"].split(\"#\")[0]\n",
    "        price_tag = it.select_one(\"span.andes-money-amount__fraction\")\n",
    "        price = int(re.sub(r\"[^\\d]\", \"\", price_tag.text)) if price_tag else None\n",
    "        ship = (it.select_one(\"div.poly-component__shipping\")\n",
    "                or it.select_one(\"span.ui-search-item__shipping-info\"))\n",
    "        shipping = ship.get_text(\" \", strip=True) if ship else None\n",
    "        seller_tag = it.select_one(\"span.poly-component__seller\")\n",
    "        seller = seller_tag.get_text(\" \", strip=True) if seller_tag else None\n",
    "        rows.append(dict(keyword=kw, title=title, price=price,\n",
    "                         url=link, shipping=shipping, seller=seller,\n",
    "                         scraped_at=datetime.now()))\n",
    "    return rows\n"
   ]
  },
  {
   "cell_type": "markdown",
   "metadata": {},
   "source": [
    "## Coleta de cards – paralela por página\n"
   ]
  },
  {
   "cell_type": "code",
   "execution_count": 83,
   "metadata": {},
   "outputs": [],
   "source": [
    "from concurrent.futures import ThreadPoolExecutor, as_completed\n",
    "\n",
    "def scrape_keyword(keyword: str, pages: int) -> pd.DataFrame:\n",
    "    \"\"\"Busca TODAS as páginas de resultados em paralelo.\"\"\"\n",
    "    urls = [build_url(keyword, p) for p in range(1, pages + 1)]\n",
    "\n",
    "    rows = []\n",
    "    with ThreadPoolExecutor(max_workers=min(len(urls), MAX_WORKERS)) as ex:\n",
    "        fut_html = {ex.submit(fetch_html, u): u for u in urls}\n",
    "\n",
    "        for fut in tqdm(as_completed(fut_html),\n",
    "                        total=len(fut_html), desc=f\"{keyword} pages\"):\n",
    "            html = fut.result()\n",
    "            rows += parse_cards(html, keyword)\n",
    "\n",
    "    return pd.DataFrame(rows)"
   ]
  },
  {
   "cell_type": "markdown",
   "metadata": {},
   "source": [
    "## Funções auxiliares – detalhes do anúncio\n"
   ]
  },
  {
   "cell_type": "code",
   "execution_count": 84,
   "metadata": {},
   "outputs": [],
   "source": [
    "def parse_product(html: str) -> dict:\n",
    "    soup = BeautifulSoup(html, \"lxml\")\n",
    "    out  = {}\n",
    "\n",
    "    t = soup.select_one(\"h1.ui-pdp-title\")\n",
    "    out[\"title_full\"] = t.get_text(\" \", strip=True) if t else None\n",
    "    p = soup.select_one(\"span.ui-pdp-price__second-line\")\n",
    "    if not p:\n",
    "        p = soup.select_one(\"span.andes-money-amount__fraction\")\n",
    "    if p: out[\"price_item\"] = int(re.sub(r\"[^\\d]\", \"\", p.text))\n",
    "    cond = soup.select_one(\"span.ui-pdp-subtitle\")\n",
    "    out[\"condition\"]   = cond.get_text(\" \", strip=True) if cond else None\n",
    "    sold = soup.select_one(\"span.ui-pdp-buybox__quantity__available\")\n",
    "    out[\"sold_qty\"]    = sold.get_text(\" \", strip=True) if sold else None\n",
    "    seller = soup.select_one(\"span.ui-pdp-seller__link-trigger\")\n",
    "    out[\"seller\"]      = seller.get_text(\" \", strip=True) if seller else None\n",
    "    st = soup.select_one(\"p.ui-pdp-seller__status-info\")\n",
    "    out[\"seller_status\"] = st.get_text(\" \", strip=True) if st else None\n",
    "    ship = soup.select_one(\"p.ui-pdp-color--GREEN, p.ui-pdp-color--BLACK\")\n",
    "    out[\"shipping\"]    = ship.get_text(\" \", strip=True) if ship else None\n",
    "\n",
    "    for row in soup.select(\"div.ui-vpp-striped-specs__table tr\"):\n",
    "        th = row.select_one(\"th\")\n",
    "        td = row.select_one(\"td span\")\n",
    "        if th and td:\n",
    "            key = re.sub(r\"\\W+\", \"_\", th.get_text(\" \", strip=True).lower()).strip(\"_\")\n",
    "            out[key] = td.get_text(\" \", strip=True)\n",
    "    return out\n"
   ]
  },
  {
   "cell_type": "markdown",
   "metadata": {},
   "source": [
    "## Visita de todos os anúncios – paralela por link\n"
   ]
  },
  {
   "cell_type": "code",
   "execution_count": 85,
   "metadata": {},
   "outputs": [],
   "source": [
    "def enrich_with_details(df: pd.DataFrame) -> pd.DataFrame:\n",
    "    details = []\n",
    "    with ThreadPoolExecutor(max_workers=MAX_WORKERS) as ex:\n",
    "        fut_det = {\n",
    "            ex.submit(fetch_html, url): url\n",
    "            for url in df[\"url\"].unique()\n",
    "        }\n",
    "        for fut in tqdm(as_completed(fut_det), total=len(fut_det), desc=\"Detalhes\"):\n",
    "            url = fut_det[fut]\n",
    "            try:\n",
    "                html = fut.result()\n",
    "                det  = parse_product(html)\n",
    "                det[\"url\"] = url\n",
    "                details.append(det)\n",
    "                time.sleep(random.uniform(*REQUEST_DELAY))\n",
    "            except Exception as e:\n",
    "                print(f\"Detalhe {url[:60]}…: {e}\")\n",
    "    det_df = pd.DataFrame(details)\n",
    "    return df.merge(det_df, on=\"url\", how=\"left\")\n"
   ]
  },
  {
   "cell_type": "markdown",
   "metadata": {},
   "source": [
    "## Limpeza – remove colunas inuteis (<70 % não-nulos)\n"
   ]
  },
  {
   "cell_type": "code",
   "execution_count": 86,
   "metadata": {},
   "outputs": [],
   "source": [
    "def drop_sparse_columns(df: pd.DataFrame, threshold=KEEP_THRESHOLD):\n",
    "    keep = [c for c in df.columns\n",
    "            if df[c].notna().mean() >= threshold]\n",
    "    return df[keep]\n"
   ]
  },
  {
   "cell_type": "markdown",
   "metadata": {},
   "source": [
    "## Pipeline completo\n"
   ]
  },
  {
   "cell_type": "code",
   "execution_count": 87,
   "metadata": {},
   "outputs": [
    {
     "data": {
      "application/vnd.jupyter.widget-view+json": {
       "model_id": "92d79be6a93e4c3fb01fd836b9e87bbd",
       "version_major": 2,
       "version_minor": 0
      },
      "text/plain": [
       "iphone-13 pages:   0%|          | 0/3 [00:00<?, ?it/s]"
      ]
     },
     "metadata": {},
     "output_type": "display_data"
    },
    {
     "data": {
      "application/vnd.jupyter.widget-view+json": {
       "model_id": "5baced96745142dd9d041a570dd84b60",
       "version_major": 2,
       "version_minor": 0
      },
      "text/plain": [
       "Detalhes:   0%|          | 0/64 [00:00<?, ?it/s]"
      ]
     },
     "metadata": {},
     "output_type": "display_data"
    },
    {
     "data": {
      "application/vnd.jupyter.widget-view+json": {
       "model_id": "757cf8d927c74e2389a942feb5583206",
       "version_major": 2,
       "version_minor": 0
      },
      "text/plain": [
       "iphone-14 pages:   0%|          | 0/3 [00:00<?, ?it/s]"
      ]
     },
     "metadata": {},
     "output_type": "display_data"
    },
    {
     "data": {
      "application/vnd.jupyter.widget-view+json": {
       "model_id": "e95dbe7011f2477693a39dd78caac29f",
       "version_major": 2,
       "version_minor": 0
      },
      "text/plain": [
       "Detalhes:   0%|          | 0/63 [00:00<?, ?it/s]"
      ]
     },
     "metadata": {},
     "output_type": "display_data"
    },
    {
     "data": {
      "application/vnd.jupyter.widget-view+json": {
       "model_id": "d758794acd94472b92c66adea6904a63",
       "version_major": 2,
       "version_minor": 0
      },
      "text/plain": [
       "rtx-3060 pages:   0%|          | 0/3 [00:00<?, ?it/s]"
      ]
     },
     "metadata": {},
     "output_type": "display_data"
    },
    {
     "data": {
      "application/vnd.jupyter.widget-view+json": {
       "model_id": "d29916ee2fd54f1f9a7a1dc4ebcd1735",
       "version_major": 2,
       "version_minor": 0
      },
      "text/plain": [
       "Detalhes:   0%|          | 0/47 [00:00<?, ?it/s]"
      ]
     },
     "metadata": {},
     "output_type": "display_data"
    },
    {
     "data": {
      "application/vnd.jupyter.widget-view+json": {
       "model_id": "5eb367b46b034766bf398a0782c50d1c",
       "version_major": 2,
       "version_minor": 0
      },
      "text/plain": [
       "mac-mini-m4 pages:   0%|          | 0/3 [00:00<?, ?it/s]"
      ]
     },
     "metadata": {},
     "output_type": "display_data"
    },
    {
     "data": {
      "application/vnd.jupyter.widget-view+json": {
       "model_id": "9def3d1ec5784487a68a4e3ff622b106",
       "version_major": 2,
       "version_minor": 0
      },
      "text/plain": [
       "Detalhes:   0%|          | 0/66 [00:00<?, ?it/s]"
      ]
     },
     "metadata": {},
     "output_type": "display_data"
    }
   ],
   "source": [
    "all_stats = []\n",
    "for kw in KEYWORDS:\n",
    "    cards = scrape_keyword(kw, PAGES_PER_KW)\n",
    "    cards.to_csv(RAW_DIR / f\"{kw}.csv\", index=False)\n",
    "    enriched = enrich_with_details(cards)\n",
    "    clean = drop_sparse_columns(enriched)\n",
    "    clean.to_csv(CLN_DIR / f\"{kw}_clean.csv\", index=False)\n",
    "    all_stats.append(\n",
    "        dict(keyword=kw,\n",
    "             raw_rows=len(cards),\n",
    "             clean_rows=len(clean),\n",
    "             kept_cols=len(clean.columns))\n",
    "    )\n"
   ]
  },
  {
   "cell_type": "markdown",
   "metadata": {},
   "source": [
    "## Relatório final\n"
   ]
  },
  {
   "cell_type": "code",
   "execution_count": 88,
   "metadata": {},
   "outputs": [
    {
     "name": "stdout",
     "output_type": "stream",
     "text": [
      "       keyword  raw_rows  clean_rows  kept_cols\n",
      "0    iphone-13       163         163         77\n",
      "1    iphone-14       161         161         76\n",
      "2     rtx-3060       141         141         26\n",
      "3  mac-mini-m4       162         162         26\n",
      "\n",
      "Arquivos gravados em: C:\\Users\\cesar\\OneDrive\\Desktop\\Insper\\Eletivas\\analise_de_texto\\Projeto_MercadoLivre\\runs\\20250518-181923\n"
     ]
    }
   ],
   "source": [
    "report = pd.DataFrame(all_stats)\n",
    "print(report)\n",
    "print(\"\\nArquivos gravados em:\", RUN_DIR.resolve())\n"
   ]
  },
  {
   "cell_type": "markdown",
   "metadata": {},
   "source": [
    "## 5. Análise exploratória — visão geral\n",
    "\n",
    "Carregamos todos os arquivos `*_clean.csv` gerados na **execução mais\n",
    "recente** (`runs/<timestamp>/clean/`) e calculamos:\n",
    "\n",
    "| métrica | descrição |\n",
    "| ------- | ---------- |\n",
    "| **n_itens**      | total de anúncios por palavra-chave |\n",
    "| **preço_médio**  | média simples do preço (R$)          |\n",
    "| **preço_mín / preço_máx** | limites inferior e superior, úteis para detectar outliers |\n",
    "\n",
    "Também listamos os **10 títulos de anúncio mais frequentes**.\n",
    "\n",
    "> Se ainda não existir nenhuma pasta `runs/<timestamp>/clean/`\n",
    "> execute primeiro o pipeline de *scraping* ➜ *cleaning*.\n"
   ]
  },
  {
   "cell_type": "code",
   "execution_count": 97,
   "metadata": {},
   "outputs": [
    {
     "name": "stdout",
     "output_type": "stream",
     "text": [
      "Usando dados de: runs\\20250518-181923\\clean\n",
      "\n",
      "### Métricas por keyword\n"
     ]
    },
    {
     "data": {
      "text/html": [
       "<style type=\"text/css\">\n",
       "</style>\n",
       "<table id=\"T_3f349\">\n",
       "  <thead>\n",
       "    <tr>\n",
       "      <th class=\"blank level0\" >&nbsp;</th>\n",
       "      <th id=\"T_3f349_level0_col0\" class=\"col_heading level0 col0\" >keyword</th>\n",
       "      <th id=\"T_3f349_level0_col1\" class=\"col_heading level0 col1\" >n_itens</th>\n",
       "      <th id=\"T_3f349_level0_col2\" class=\"col_heading level0 col2\" >preço_médio</th>\n",
       "      <th id=\"T_3f349_level0_col3\" class=\"col_heading level0 col3\" >preço_mín</th>\n",
       "      <th id=\"T_3f349_level0_col4\" class=\"col_heading level0 col4\" >preço_máx</th>\n",
       "    </tr>\n",
       "  </thead>\n",
       "  <tbody>\n",
       "    <tr>\n",
       "      <th id=\"T_3f349_level0_row0\" class=\"row_heading level0 row0\" >0</th>\n",
       "      <td id=\"T_3f349_row0_col0\" class=\"data row0 col0\" >iphone-13</td>\n",
       "      <td id=\"T_3f349_row0_col1\" class=\"data row0 col1\" >163</td>\n",
       "      <td id=\"T_3f349_row0_col2\" class=\"data row0 col2\" >R$4,056.16</td>\n",
       "      <td id=\"T_3f349_row0_col3\" class=\"data row0 col3\" >R$1,198</td>\n",
       "      <td id=\"T_3f349_row0_col4\" class=\"data row0 col4\" >R$8,799</td>\n",
       "    </tr>\n",
       "    <tr>\n",
       "      <th id=\"T_3f349_level0_row1\" class=\"row_heading level0 row1\" >1</th>\n",
       "      <td id=\"T_3f349_row1_col0\" class=\"data row1 col0\" >iphone-14</td>\n",
       "      <td id=\"T_3f349_row1_col1\" class=\"data row1 col1\" >161</td>\n",
       "      <td id=\"T_3f349_row1_col2\" class=\"data row1 col2\" >R$5,407.86</td>\n",
       "      <td id=\"T_3f349_row1_col3\" class=\"data row1 col3\" >R$1,198</td>\n",
       "      <td id=\"T_3f349_row1_col4\" class=\"data row1 col4\" >R$9,499</td>\n",
       "    </tr>\n",
       "    <tr>\n",
       "      <th id=\"T_3f349_level0_row2\" class=\"row_heading level0 row2\" >2</th>\n",
       "      <td id=\"T_3f349_row2_col0\" class=\"data row2 col0\" >mac-mini-m4</td>\n",
       "      <td id=\"T_3f349_row2_col1\" class=\"data row2 col1\" >162</td>\n",
       "      <td id=\"T_3f349_row2_col2\" class=\"data row2 col2\" >R$9,731.07</td>\n",
       "      <td id=\"T_3f349_row2_col3\" class=\"data row2 col3\" >R$999</td>\n",
       "      <td id=\"T_3f349_row2_col4\" class=\"data row2 col4\" >R$30,699</td>\n",
       "    </tr>\n",
       "    <tr>\n",
       "      <th id=\"T_3f349_level0_row3\" class=\"row_heading level0 row3\" >3</th>\n",
       "      <td id=\"T_3f349_row3_col0\" class=\"data row3 col0\" >rtx-3060</td>\n",
       "      <td id=\"T_3f349_row3_col1\" class=\"data row3 col1\" >141</td>\n",
       "      <td id=\"T_3f349_row3_col2\" class=\"data row3 col2\" >R$2,927.28</td>\n",
       "      <td id=\"T_3f349_row3_col3\" class=\"data row3 col3\" >R$1,499</td>\n",
       "      <td id=\"T_3f349_row3_col4\" class=\"data row3 col4\" >R$5,500</td>\n",
       "    </tr>\n",
       "  </tbody>\n",
       "</table>\n"
      ],
      "text/plain": [
       "<pandas.io.formats.style.Styler at 0x1cdb64d9d90>"
      ]
     },
     "metadata": {},
     "output_type": "display_data"
    },
    {
     "name": "stdout",
     "output_type": "stream",
     "text": [
      "\n",
      "### Títulos mais frequentes (Top-10)\n"
     ]
    },
    {
     "data": {
      "text/html": [
       "<div>\n",
       "<style scoped>\n",
       "    .dataframe tbody tr th:only-of-type {\n",
       "        vertical-align: middle;\n",
       "    }\n",
       "\n",
       "    .dataframe tbody tr th {\n",
       "        vertical-align: top;\n",
       "    }\n",
       "\n",
       "    .dataframe thead th {\n",
       "        text-align: right;\n",
       "    }\n",
       "</style>\n",
       "<table border=\"1\" class=\"dataframe\">\n",
       "  <thead>\n",
       "    <tr style=\"text-align: right;\">\n",
       "      <th></th>\n",
       "      <th>title</th>\n",
       "      <th>freq</th>\n",
       "    </tr>\n",
       "  </thead>\n",
       "  <tbody>\n",
       "    <tr>\n",
       "      <th>0</th>\n",
       "      <td>Apple Mac Mini M4 16gb/256gb Ssd - Silver</td>\n",
       "      <td>15</td>\n",
       "    </tr>\n",
       "    <tr>\n",
       "      <th>1</th>\n",
       "      <td>Apple Mac Mini M4 (2024) 10cpu 10gpu 16gb 256g...</td>\n",
       "      <td>12</td>\n",
       "    </tr>\n",
       "    <tr>\n",
       "      <th>2</th>\n",
       "      <td>Placa De Vídeo Galax Geforce Rtx 3060 12gb Gdd...</td>\n",
       "      <td>9</td>\n",
       "    </tr>\n",
       "    <tr>\n",
       "      <th>3</th>\n",
       "      <td>Placa De Video Zotac Rtx 3060 12gb, Gddr6, 192...</td>\n",
       "      <td>9</td>\n",
       "    </tr>\n",
       "    <tr>\n",
       "      <th>4</th>\n",
       "      <td>Placa De Vídeo Geforce Galax Rtx 3060 12gb Gdd...</td>\n",
       "      <td>9</td>\n",
       "    </tr>\n",
       "    <tr>\n",
       "      <th>5</th>\n",
       "      <td>iPhone 14 Apple Meia-noite, 256gb</td>\n",
       "      <td>6</td>\n",
       "    </tr>\n",
       "    <tr>\n",
       "      <th>6</th>\n",
       "      <td>Apple Mac Mini M4 (2024) 10cpu 10gpu 24gb Ram ...</td>\n",
       "      <td>6</td>\n",
       "    </tr>\n",
       "    <tr>\n",
       "      <th>7</th>\n",
       "      <td>Apple Mac Mini M4 (2024) 10cpu 10gpu, 16gb Ram...</td>\n",
       "      <td>6</td>\n",
       "    </tr>\n",
       "    <tr>\n",
       "      <th>8</th>\n",
       "      <td>Placa De Vídeo Galax Geforce Rtx 3060 12gb 192...</td>\n",
       "      <td>6</td>\n",
       "    </tr>\n",
       "    <tr>\n",
       "      <th>9</th>\n",
       "      <td>Placa De Video Galax Geforce Rtx 3060 1-click ...</td>\n",
       "      <td>6</td>\n",
       "    </tr>\n",
       "  </tbody>\n",
       "</table>\n",
       "</div>"
      ],
      "text/plain": [
       "                                               title  freq\n",
       "0          Apple Mac Mini M4 16gb/256gb Ssd - Silver    15\n",
       "1  Apple Mac Mini M4 (2024) 10cpu 10gpu 16gb 256g...    12\n",
       "2  Placa De Vídeo Galax Geforce Rtx 3060 12gb Gdd...     9\n",
       "3  Placa De Video Zotac Rtx 3060 12gb, Gddr6, 192...     9\n",
       "4  Placa De Vídeo Geforce Galax Rtx 3060 12gb Gdd...     9\n",
       "5                  iPhone 14 Apple Meia-noite, 256gb     6\n",
       "6  Apple Mac Mini M4 (2024) 10cpu 10gpu 24gb Ram ...     6\n",
       "7  Apple Mac Mini M4 (2024) 10cpu 10gpu, 16gb Ram...     6\n",
       "8  Placa De Vídeo Galax Geforce Rtx 3060 12gb 192...     6\n",
       "9  Placa De Video Galax Geforce Rtx 3060 1-click ...     6"
      ]
     },
     "metadata": {},
     "output_type": "display_data"
    }
   ],
   "source": [
    "import pandas as pd\n",
    "from pathlib import Path\n",
    "from IPython.display import display\n",
    "\n",
    "BASE_DIR   = Path.cwd()          # pasta do notebook\n",
    "RUNS_DIR   = BASE_DIR / \"runs\"   # onde ficam as execuções\n",
    "\n",
    "run_folders = sorted([p for p in RUNS_DIR.iterdir() if p.is_dir()])\n",
    "if not run_folders:\n",
    "    raise FileNotFoundError(f\"Nenhuma pasta encontrada em {RUNS_DIR}\")\n",
    "\n",
    "latest_run  = run_folders[-1]\n",
    "clean_path  = latest_run / \"clean\"\n",
    "print(f\"Usando dados de: {clean_path.relative_to(BASE_DIR)}\")\n",
    "\n",
    "csv_files   = list(clean_path.glob(\"*_clean.csv\"))\n",
    "if not csv_files:\n",
    "    raise FileNotFoundError(\"Nenhum *_clean.csv encontrado na pasta 'clean/'\")\n",
    "\n",
    "df = pd.concat([pd.read_csv(f) for f in csv_files], ignore_index=True)\n",
    "\n",
    "metrics = (\n",
    "    df.groupby(\"keyword\")\n",
    "      .agg(\n",
    "          n_itens     = (\"price\", \"count\"),\n",
    "          preço_médio = (\"price\", \"mean\"),\n",
    "          preço_mín   = (\"price\", \"min\"),\n",
    "          preço_máx   = (\"price\", \"max\"),\n",
    "      )\n",
    "      .round(2)\n",
    "      .reset_index()\n",
    ")\n",
    "\n",
    "top_titles = (\n",
    "    df[\"title\"]\n",
    "      .value_counts()\n",
    "      .head(10)\n",
    "      .rename_axis(\"title\")\n",
    "      .reset_index(name=\"freq\")\n",
    ")\n",
    "\n",
    "print(\"\\n### Métricas por keyword\")\n",
    "display(metrics.style.format(\n",
    "    {\"preço_médio\": \"R${:,.2f}\",\n",
    "     \"preço_mín\":   \"R${:,.0f}\",\n",
    "     \"preço_máx\":   \"R${:,.0f}\"}\n",
    "))\n",
    "\n",
    "print(\"\\n### Títulos mais frequentes (Top-10)\")\n",
    "display(top_titles)\n"
   ]
  },
  {
   "cell_type": "markdown",
   "metadata": {},
   "source": [
    "## 6 · Análise aprofundada\n",
    "Nesta secção: limpeza fina da coluna **condition**, estatísticas e visualizações por *keyword*.\n"
   ]
  },
  {
   "cell_type": "code",
   "execution_count": 102,
   "metadata": {},
   "outputs": [],
   "source": [
    "from pathlib import Path\n",
    "import pandas as pd\n",
    "import matplotlib.pyplot as plt\n",
    "\n",
    "run_dir = max(Path(\"runs\").glob(\"*/clean\"), key=lambda p: p.parent.name)\n",
    "files = list(run_dir.glob(\"*.csv\"))\n",
    "data = {f.stem.replace(\"_clean\", \"\"): pd.read_csv(f) for f in files}\n"
   ]
  },
  {
   "cell_type": "markdown",
   "metadata": {},
   "source": [
    "### 6.1 Normalização de **condition** → `condition` e `sold_qty`\n"
   ]
  },
  {
   "cell_type": "code",
   "execution_count": 103,
   "metadata": {},
   "outputs": [],
   "source": [
    "def split_condition(df):\n",
    "    cond = df[\"condition\"].fillna(\"\").str.split(\"|\", n=1, expand=True)\n",
    "    df[\"condition\"] = cond[0].str.strip().replace(\"\", pd.NA)\n",
    "    df[\"sold_qty\"] = (\n",
    "        cond[1]\n",
    "        .str.extract(r\"(\\d[\\d\\.]*)\", expand=False)\n",
    "        .str.replace(\".\", \"\", regex=False)\n",
    "        .astype(\"Int64\")\n",
    "    )\n",
    "for k, d in data.items():\n",
    "    split_condition(d)\n"
   ]
  },
  {
   "cell_type": "markdown",
   "metadata": {},
   "source": [
    "### 6.2 Métricas por *keyword*\n"
   ]
  },
  {
   "cell_type": "code",
   "execution_count": 104,
   "metadata": {},
   "outputs": [
    {
     "data": {
      "text/html": [
       "<div>\n",
       "<style scoped>\n",
       "    .dataframe tbody tr th:only-of-type {\n",
       "        vertical-align: middle;\n",
       "    }\n",
       "\n",
       "    .dataframe tbody tr th {\n",
       "        vertical-align: top;\n",
       "    }\n",
       "\n",
       "    .dataframe thead th {\n",
       "        text-align: right;\n",
       "    }\n",
       "</style>\n",
       "<table border=\"1\" class=\"dataframe\">\n",
       "  <thead>\n",
       "    <tr style=\"text-align: right;\">\n",
       "      <th></th>\n",
       "      <th>keyword</th>\n",
       "      <th>cond_mais_comum</th>\n",
       "      <th>cond_mais_rara</th>\n",
       "      <th>preco_medio</th>\n",
       "      <th>preco_mediana</th>\n",
       "      <th>preco_min</th>\n",
       "      <th>preco_max</th>\n",
       "      <th>vendas_medias</th>\n",
       "    </tr>\n",
       "  </thead>\n",
       "  <tbody>\n",
       "    <tr>\n",
       "      <th>0</th>\n",
       "      <td>iphone-13</td>\n",
       "      <td>Recondicionado</td>\n",
       "      <td>Caixa aberta</td>\n",
       "      <td>4056.159509</td>\n",
       "      <td>3697.0</td>\n",
       "      <td>1198.0</td>\n",
       "      <td>8799.0</td>\n",
       "      <td>95.705882</td>\n",
       "    </tr>\n",
       "    <tr>\n",
       "      <th>1</th>\n",
       "      <td>iphone-14</td>\n",
       "      <td>Novo</td>\n",
       "      <td>Caixa aberta</td>\n",
       "      <td>5407.863354</td>\n",
       "      <td>5499.0</td>\n",
       "      <td>1198.0</td>\n",
       "      <td>9499.0</td>\n",
       "      <td>89.231405</td>\n",
       "    </tr>\n",
       "    <tr>\n",
       "      <th>2</th>\n",
       "      <td>mac-mini-m4</td>\n",
       "      <td>Novo</td>\n",
       "      <td>Novo</td>\n",
       "      <td>9731.074074</td>\n",
       "      <td>6674.0</td>\n",
       "      <td>999.0</td>\n",
       "      <td>30699.0</td>\n",
       "      <td>30.173077</td>\n",
       "    </tr>\n",
       "    <tr>\n",
       "      <th>3</th>\n",
       "      <td>rtx-3060</td>\n",
       "      <td>Novo</td>\n",
       "      <td>Novo</td>\n",
       "      <td>2927.276596</td>\n",
       "      <td>2814.0</td>\n",
       "      <td>1499.0</td>\n",
       "      <td>5500.0</td>\n",
       "      <td>78.411765</td>\n",
       "    </tr>\n",
       "  </tbody>\n",
       "</table>\n",
       "</div>"
      ],
      "text/plain": [
       "       keyword cond_mais_comum cond_mais_rara  preco_medio  preco_mediana  \\\n",
       "0    iphone-13  Recondicionado   Caixa aberta  4056.159509         3697.0   \n",
       "1    iphone-14            Novo   Caixa aberta  5407.863354         5499.0   \n",
       "2  mac-mini-m4            Novo           Novo  9731.074074         6674.0   \n",
       "3     rtx-3060            Novo           Novo  2927.276596         2814.0   \n",
       "\n",
       "   preco_min  preco_max  vendas_medias  \n",
       "0     1198.0     8799.0      95.705882  \n",
       "1     1198.0     9499.0      89.231405  \n",
       "2      999.0    30699.0      30.173077  \n",
       "3     1499.0     5500.0      78.411765  "
      ]
     },
     "execution_count": 104,
     "metadata": {},
     "output_type": "execute_result"
    }
   ],
   "source": [
    "metrics = []\n",
    "for k, d in data.items():\n",
    "    price_stats = d[\"price\"].agg([\"mean\", \"median\", \"min\", \"max\"])\n",
    "    most = d[\"condition\"].mode(dropna=True)\n",
    "    least = d[\"condition\"].value_counts(dropna=True).idxmin()\n",
    "    avg_sales = d[\"sold_qty\"].mean()\n",
    "    metrics.append(\n",
    "        {\n",
    "            \"keyword\": k,\n",
    "            \"cond_mais_comum\": most.iloc[0] if not most.empty else pd.NA,\n",
    "            \"cond_mais_rara\": least,\n",
    "            \"preco_medio\": price_stats[\"mean\"],\n",
    "            \"preco_mediana\": price_stats[\"median\"],\n",
    "            \"preco_min\": price_stats[\"min\"],\n",
    "            \"preco_max\": price_stats[\"max\"],\n",
    "            \"vendas_medias\": avg_sales,\n",
    "        }\n",
    "    )\n",
    "pd.DataFrame(metrics)"
   ]
  },
  {
   "cell_type": "markdown",
   "metadata": {},
   "source": [
    "### 6.3 Anúncio com maior número de vendas por *keyword*\n"
   ]
  },
  {
   "cell_type": "code",
   "execution_count": 107,
   "metadata": {},
   "outputs": [
    {
     "data": {
      "text/html": [
       "<div>\n",
       "<style scoped>\n",
       "    .dataframe tbody tr th:only-of-type {\n",
       "        vertical-align: middle;\n",
       "    }\n",
       "\n",
       "    .dataframe tbody tr th {\n",
       "        vertical-align: top;\n",
       "    }\n",
       "\n",
       "    .dataframe thead th {\n",
       "        text-align: right;\n",
       "    }\n",
       "</style>\n",
       "<table border=\"1\" class=\"dataframe\">\n",
       "  <thead>\n",
       "    <tr style=\"text-align: right;\">\n",
       "      <th></th>\n",
       "      <th>keyword</th>\n",
       "      <th>sold_qty</th>\n",
       "      <th>title</th>\n",
       "    </tr>\n",
       "  </thead>\n",
       "  <tbody>\n",
       "    <tr>\n",
       "      <th>0</th>\n",
       "      <td>iphone-13</td>\n",
       "      <td>1000</td>\n",
       "      <td>Apple iPhone 13 (256 GB) - Estelar - Distribui...</td>\n",
       "    </tr>\n",
       "    <tr>\n",
       "      <th>1</th>\n",
       "      <td>iphone-14</td>\n",
       "      <td>1000</td>\n",
       "      <td>Apple iPhone 14 (256 GB) - Estelar - Distribui...</td>\n",
       "    </tr>\n",
       "    <tr>\n",
       "      <th>2</th>\n",
       "      <td>mac-mini-m4</td>\n",
       "      <td>1000</td>\n",
       "      <td>Mini Pc Lenovo M910 Core I5 7° Ger 16 Gb Ram S...</td>\n",
       "    </tr>\n",
       "    <tr>\n",
       "      <th>3</th>\n",
       "      <td>rtx-3060</td>\n",
       "      <td>500</td>\n",
       "      <td>Placa De Video Zotac Geforce Rtx 3060, 12gb, G...</td>\n",
       "    </tr>\n",
       "  </tbody>\n",
       "</table>\n",
       "</div>"
      ],
      "text/plain": [
       "       keyword  sold_qty                                              title\n",
       "0    iphone-13      1000  Apple iPhone 13 (256 GB) - Estelar - Distribui...\n",
       "1    iphone-14      1000  Apple iPhone 14 (256 GB) - Estelar - Distribui...\n",
       "2  mac-mini-m4      1000  Mini Pc Lenovo M910 Core I5 7° Ger 16 Gb Ram S...\n",
       "3     rtx-3060       500  Placa De Video Zotac Geforce Rtx 3060, 12gb, G..."
      ]
     },
     "execution_count": 107,
     "metadata": {},
     "output_type": "execute_result"
    }
   ],
   "source": [
    "tops = []\n",
    "for k, d in data.items():\n",
    "    top = d.sort_values(\"sold_qty\", ascending=False).iloc[0]\n",
    "    tops.append({\"keyword\": k, \"sold_qty\": top[\"sold_qty\"], \"title\": top[\"title\"]})\n",
    "pd.DataFrame(tops)\n"
   ]
  },
  {
   "cell_type": "markdown",
   "metadata": {},
   "source": [
    "### 6.4 Distribuição de preços  \n",
    "Histogramas por *keyword* (um gráfico por produto).\n"
   ]
  },
  {
   "cell_type": "code",
   "execution_count": 110,
   "metadata": {},
   "outputs": [
    {
     "data": {
      "image/png": "[encoded data removed]",
      "text/plain": [
       "<Figure size 640x480 with 1 Axes>"
      ]
     },
     "metadata": {},
     "output_type": "display_data"
    },
    {
     "data": {
      "image/png": "[encoded data removed]",
      "text/plain": [
       "<Figure size 640x480 with 1 Axes>"
      ]
     },
     "metadata": {},
     "output_type": "display_data"
    },
    {
     "data": {
      "image/png": "[encoded data removed]",
      "text/plain": [
       "<Figure size 640x480 with 1 Axes>"
      ]
     },
     "metadata": {},
     "output_type": "display_data"
    },
    {
     "data": {
      "image/png": "[encoded data removed]",
      "text/plain": [
       "<Figure size 640x480 with 1 Axes>"
      ]
     },
     "metadata": {},
     "output_type": "display_data"
    }
   ],
   "source": [
    "for k, d in data.items():\n",
    "    d[\"price\"].dropna().plot.hist(\n",
    "        bins=20,\n",
    "        title=f\"Distribuição de preços – {k}\",\n",
    "        xlabel=\"Preço (R$)\",\n",
    "        ylabel=\"Frequência\",\n",
    "    )\n",
    "    plt.show()\n"
   ]
  },
  {
   "cell_type": "markdown",
   "metadata": {},
   "source": [
    "### 6.5 Distribuição de vendas  \n",
    "Histogramas por *keyword* (um gráfico por produto).\n"
   ]
  },
  {
   "cell_type": "code",
   "execution_count": 111,
   "metadata": {},
   "outputs": [
    {
     "data": {
      "image/png": "[encoded data removed]",
      "text/plain": [
       "<Figure size 640x480 with 1 Axes>"
      ]
     },
     "metadata": {},
     "output_type": "display_data"
    },
    {
     "data": {
      "image/png": "[encoded data removed]",
      "text/plain": [
       "<Figure size 640x480 with 1 Axes>"
      ]
     },
     "metadata": {},
     "output_type": "display_data"
    },
    {
     "data": {
      "image/png": "[encoded data removed]",
      "text/plain": [
       "<Figure size 640x480 with 1 Axes>"
      ]
     },
     "metadata": {},
     "output_type": "display_data"
    },
    {
     "data": {
      "image/png": "[encoded data removed]",
      "text/plain": [
       "<Figure size 640x480 with 1 Axes>"
      ]
     },
     "metadata": {},
     "output_type": "display_data"
    }
   ],
   "source": [
    "for k, d in data.items():\n",
    "    d[\"sold_qty\"].dropna().plot.hist(\n",
    "        bins=20,\n",
    "        title=f\"Distribuição de vendas – {k}\",\n",
    "        xlabel=\"Unidades vendidas\",\n",
    "        ylabel=\"Frequência\",\n",
    "    )\n",
    "    plt.show()\n"
   ]
  },
  {
   "cell_type": "code",
   "execution_count": null,
   "metadata": {},
   "outputs": [],
   "source": []
  }
 ],
 "metadata": {
  "kernelspec": {
   "display_name": "Python 3",
   "language": "python",
   "name": "python3"
  },
  "language_info": {
   "codemirror_mode": {
    "name": "ipython",
    "version": 3
   },
   "file_extension": ".py",
   "mimetype": "text/x-python",
   "name": "python",
   "nbconvert_exporter": "python",
   "pygments_lexer": "ipython3",
   "version": "3.12.6"
  }
 },
 "nbformat": 4,
 "nbformat_minor": 2
}
